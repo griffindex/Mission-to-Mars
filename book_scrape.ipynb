{
 "cells": [
  {
   "cell_type": "code",
   "execution_count": 1,
   "source": [
    "from splinter import Browser\n",
    "from bs4 import BeautifulSoup as soup\n",
    "from webdriver_manager.chrome import ChromeDriverManager"
   ],
   "outputs": [],
   "metadata": {}
  },
  {
   "cell_type": "code",
   "execution_count": 2,
   "source": [
    "# Set up Splinter\n",
    "executable_path = {'executable_path': ChromeDriverManager().install()}\n",
    "browser = Browser('chrome', **executable_path, headless=False)"
   ],
   "outputs": [
    {
     "output_type": "stream",
     "name": "stderr",
     "text": [
      "[WDM] - \n",
      "\n",
      "[WDM] - ====== WebDriver manager ======\n",
      "[WDM] - Current google-chrome version is 95.0.4638\n",
      "[WDM] - Get LATEST driver version for 95.0.4638\n",
      "[WDM] - Get LATEST driver version for 95.0.4638\n",
      "[WDM] - Trying to download new driver from https://chromedriver.storage.googleapis.com/95.0.4638.17/chromedriver_mac64.zip\n",
      "[WDM] - Driver has been saved in cache [/Users/ariel/.wdm/drivers/chromedriver/mac64/95.0.4638.17]\n"
     ]
    }
   ],
   "metadata": {}
  },
  {
   "cell_type": "code",
   "execution_count": 3,
   "source": [
    "# Visit the Quotes to Scrape site\n",
    "url = 'http://books.toscrape.com/'\n",
    "browser.visit(url)"
   ],
   "outputs": [],
   "metadata": {}
  },
  {
   "cell_type": "code",
   "execution_count": 4,
   "source": [
    "# Parse the HTML\n",
    "html = browser.html\n",
    "html_soup = soup(html, 'html.parser')"
   ],
   "outputs": [],
   "metadata": {}
  },
  {
   "cell_type": "code",
   "execution_count": 16,
   "source": [
    "# Scrape the book urls\n",
    "for link in html_soup.find_all('a', href=True):\n",
    "    print(link['href'])"
   ],
   "outputs": [
    {
     "output_type": "stream",
     "name": "stdout",
     "text": [
      "index.html\n",
      "index.html\n",
      "catalogue/category/books_1/index.html\n",
      "catalogue/category/books/travel_2/index.html\n",
      "catalogue/category/books/mystery_3/index.html\n",
      "catalogue/category/books/historical-fiction_4/index.html\n",
      "catalogue/category/books/sequential-art_5/index.html\n",
      "catalogue/category/books/classics_6/index.html\n",
      "catalogue/category/books/philosophy_7/index.html\n",
      "catalogue/category/books/romance_8/index.html\n",
      "catalogue/category/books/womens-fiction_9/index.html\n",
      "catalogue/category/books/fiction_10/index.html\n",
      "catalogue/category/books/childrens_11/index.html\n",
      "catalogue/category/books/religion_12/index.html\n",
      "catalogue/category/books/nonfiction_13/index.html\n",
      "catalogue/category/books/music_14/index.html\n",
      "catalogue/category/books/default_15/index.html\n",
      "catalogue/category/books/science-fiction_16/index.html\n",
      "catalogue/category/books/sports-and-games_17/index.html\n",
      "catalogue/category/books/add-a-comment_18/index.html\n",
      "catalogue/category/books/fantasy_19/index.html\n",
      "catalogue/category/books/new-adult_20/index.html\n",
      "catalogue/category/books/young-adult_21/index.html\n",
      "catalogue/category/books/science_22/index.html\n",
      "catalogue/category/books/poetry_23/index.html\n",
      "catalogue/category/books/paranormal_24/index.html\n",
      "catalogue/category/books/art_25/index.html\n",
      "catalogue/category/books/psychology_26/index.html\n",
      "catalogue/category/books/autobiography_27/index.html\n",
      "catalogue/category/books/parenting_28/index.html\n",
      "catalogue/category/books/adult-fiction_29/index.html\n",
      "catalogue/category/books/humor_30/index.html\n",
      "catalogue/category/books/horror_31/index.html\n",
      "catalogue/category/books/history_32/index.html\n",
      "catalogue/category/books/food-and-drink_33/index.html\n",
      "catalogue/category/books/christian-fiction_34/index.html\n",
      "catalogue/category/books/business_35/index.html\n",
      "catalogue/category/books/biography_36/index.html\n",
      "catalogue/category/books/thriller_37/index.html\n",
      "catalogue/category/books/contemporary_38/index.html\n",
      "catalogue/category/books/spirituality_39/index.html\n",
      "catalogue/category/books/academic_40/index.html\n",
      "catalogue/category/books/self-help_41/index.html\n",
      "catalogue/category/books/historical_42/index.html\n",
      "catalogue/category/books/christian_43/index.html\n",
      "catalogue/category/books/suspense_44/index.html\n",
      "catalogue/category/books/short-stories_45/index.html\n",
      "catalogue/category/books/novels_46/index.html\n",
      "catalogue/category/books/health_47/index.html\n",
      "catalogue/category/books/politics_48/index.html\n",
      "catalogue/category/books/cultural_49/index.html\n",
      "catalogue/category/books/erotica_50/index.html\n",
      "catalogue/category/books/crime_51/index.html\n",
      "catalogue/a-light-in-the-attic_1000/index.html\n",
      "catalogue/a-light-in-the-attic_1000/index.html\n",
      "catalogue/tipping-the-velvet_999/index.html\n",
      "catalogue/tipping-the-velvet_999/index.html\n",
      "catalogue/soumission_998/index.html\n",
      "catalogue/soumission_998/index.html\n",
      "catalogue/sharp-objects_997/index.html\n",
      "catalogue/sharp-objects_997/index.html\n",
      "catalogue/sapiens-a-brief-history-of-humankind_996/index.html\n",
      "catalogue/sapiens-a-brief-history-of-humankind_996/index.html\n",
      "catalogue/the-requiem-red_995/index.html\n",
      "catalogue/the-requiem-red_995/index.html\n",
      "catalogue/the-dirty-little-secrets-of-getting-your-dream-job_994/index.html\n",
      "catalogue/the-dirty-little-secrets-of-getting-your-dream-job_994/index.html\n",
      "catalogue/the-coming-woman-a-novel-based-on-the-life-of-the-infamous-feminist-victoria-woodhull_993/index.html\n",
      "catalogue/the-coming-woman-a-novel-based-on-the-life-of-the-infamous-feminist-victoria-woodhull_993/index.html\n",
      "catalogue/the-boys-in-the-boat-nine-americans-and-their-epic-quest-for-gold-at-the-1936-berlin-olympics_992/index.html\n",
      "catalogue/the-boys-in-the-boat-nine-americans-and-their-epic-quest-for-gold-at-the-1936-berlin-olympics_992/index.html\n",
      "catalogue/the-black-maria_991/index.html\n",
      "catalogue/the-black-maria_991/index.html\n",
      "catalogue/starving-hearts-triangular-trade-trilogy-1_990/index.html\n",
      "catalogue/starving-hearts-triangular-trade-trilogy-1_990/index.html\n",
      "catalogue/shakespeares-sonnets_989/index.html\n",
      "catalogue/shakespeares-sonnets_989/index.html\n",
      "catalogue/set-me-free_988/index.html\n",
      "catalogue/set-me-free_988/index.html\n",
      "catalogue/scott-pilgrims-precious-little-life-scott-pilgrim-1_987/index.html\n",
      "catalogue/scott-pilgrims-precious-little-life-scott-pilgrim-1_987/index.html\n",
      "catalogue/rip-it-up-and-start-again_986/index.html\n",
      "catalogue/rip-it-up-and-start-again_986/index.html\n",
      "catalogue/our-band-could-be-your-life-scenes-from-the-american-indie-underground-1981-1991_985/index.html\n",
      "catalogue/our-band-could-be-your-life-scenes-from-the-american-indie-underground-1981-1991_985/index.html\n",
      "catalogue/olio_984/index.html\n",
      "catalogue/olio_984/index.html\n",
      "catalogue/mesaerion-the-best-science-fiction-stories-1800-1849_983/index.html\n",
      "catalogue/mesaerion-the-best-science-fiction-stories-1800-1849_983/index.html\n",
      "catalogue/libertarianism-for-beginners_982/index.html\n",
      "catalogue/libertarianism-for-beginners_982/index.html\n",
      "catalogue/its-only-the-himalayas_981/index.html\n",
      "catalogue/its-only-the-himalayas_981/index.html\n",
      "catalogue/page-2.html\n"
     ]
    }
   ],
   "metadata": {}
  }
 ],
 "metadata": {
  "orig_nbformat": 4,
  "language_info": {
   "name": "python",
   "version": "3.7.11",
   "mimetype": "text/x-python",
   "codemirror_mode": {
    "name": "ipython",
    "version": 3
   },
   "pygments_lexer": "ipython3",
   "nbconvert_exporter": "python",
   "file_extension": ".py"
  },
  "kernelspec": {
   "name": "python3",
   "display_name": "Python 3.7.11 64-bit ('PythonData': conda)"
  },
  "interpreter": {
   "hash": "5f398d77aa255d68d4369287a6cab08f1e32695e8d16a8ddc3043f27f4399078"
  }
 },
 "nbformat": 4,
 "nbformat_minor": 2
}